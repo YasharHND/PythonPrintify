{
 "cells": [
  {
   "cell_type": "code",
   "execution_count": null,
   "outputs": [],
   "source": [
    "import os\n",
    "\n",
    "from dotenv import load_dotenv\n",
    "\n",
    "load_dotenv()\n",
    "\n",
    "SHOP_SHOPIFY_ID = os.getenv(\"SHOP_SHOPIFY_ID\")"
   ],
   "metadata": {
    "collapsed": false
   },
   "id": "69d6d3fedb88b727"
  },
  {
   "cell_type": "code",
   "execution_count": null,
   "outputs": [],
   "source": [
    "from api_client import get_and_save\n",
    "\n",
    "get_and_save(f\"/v1/catalog/blueprints/706/print_providers/39/variants.json\", \"Blueprint-706_PrintProvider-39_Variants_All.json\")"
   ],
   "metadata": {
    "collapsed": false
   },
   "id": "899f5531d461b5a2"
  },
  {
   "cell_type": "code",
   "execution_count": null,
   "outputs": [],
   "source": [
    "import json\n",
    "\n",
    "with open(\"Saves/Blueprint-706_PrintProvider-39_Variants_All.json\", \"r\") as file:\n",
    "    variants_original = json.loads(file.read())[\"variants\"]\n",
    "\n",
    "colors_balanced = [\n",
    "    \"White\",\n",
    "    \"Black\",\n",
    "    \"Red\",\n",
    "    \"Navy\",\n",
    "    \"Burnt Orange\",\n",
    "    \"Citrus\",\n",
    "    \"Seafoam\"\n",
    "]\n",
    "\n",
    "colors_light = [\n",
    "    \"White\",\n",
    "    \"Blossom\",\n",
    "    \"Chambray\",\n",
    "    \"Granite\",\n",
    "    \"Burnt Orange\",\n",
    "    \"Citrus\",\n",
    "    \"Seafoam\"\n",
    "]\n",
    "\n",
    "colors_dark = [\n",
    "    \"Black\",\n",
    "    \"Red\",\n",
    "    \"Navy\",\n",
    "    \"Berry\",\n",
    "    \"Grape\",\n",
    "    \"Topaz Blue\",\n",
    "    \"Hemp\"\n",
    "]\n",
    "\n",
    "variant_ids_balanced = []\n",
    "variant_ids_light = []\n",
    "variant_ids_dark = []\n",
    "\n",
    "for color in colors_balanced:\n",
    "    variants = []\n",
    "    for variant_original in variants_original:\n",
    "        if variant_original[\"options\"][\"color\"] == color:\n",
    "            variant_ids_balanced.append(variant_original[\"id\"])\n",
    "            variants.append(variant_original)\n",
    "#     with open(f\"Saves/Blueprint-706_PrintProvider-39_Variants_Color-{color}.json\", \"w\") as out:\n",
    "#         out.write(json.dumps(variants, indent=2))\n",
    "# with open(\"Saves/Blueprint-706_PrintProvider-39_Variants_Ids_Balanced.json\", \"w\") as out:\n",
    "#     out.write(json.dumps(variant_ids_balanced, indent=2))\n",
    "\n",
    "for color in colors_light:\n",
    "    variants = []\n",
    "    for variant_original in variants_original:\n",
    "        if variant_original[\"options\"][\"color\"] == color:\n",
    "            variant_ids_light.append(variant_original[\"id\"])\n",
    "            variants.append(variant_original)\n",
    "#     with open(f\"Saves/Blueprint-706_PrintProvider-39_Variants_Color-{color}.json\", \"w\") as out:\n",
    "#         out.write(json.dumps(variants, indent=2))\n",
    "# with open(\"Saves/Blueprint-706_PrintProvider-39_Variants_Ids_Light.json\", \"w\") as out:\n",
    "#     out.write(json.dumps(variant_ids_light, indent=2))\n",
    "\n",
    "for color in colors_dark:\n",
    "    variants = []\n",
    "    for variant_original in variants_original:\n",
    "        if variant_original[\"options\"][\"color\"] == color:\n",
    "            variant_ids_dark.append(variant_original[\"id\"])\n",
    "            variants.append(variant_original)\n",
    "#     with open(f\"Saves/Blueprint-706_PrintProvider-39_Variants_Color-{color}.json\", \"w\") as out:\n",
    "#         out.write(json.dumps(variants, indent=2))\n",
    "# with open(\"Saves/Blueprint-706_PrintProvider-39_Variants_Ids_Dark.json\", \"w\") as out:\n",
    "#     out.write(json.dumps(variant_ids_dark, indent=2))\n",
    "\n",
    "print(len(variant_ids_balanced))\n",
    "print(len(variant_ids_light))\n",
    "print(len(variant_ids_dark))"
   ],
   "metadata": {
    "collapsed": false
   },
   "id": "25a0010cda9572b"
  },
  {
   "cell_type": "code",
   "execution_count": null,
   "outputs": [],
   "source": [
    "from image_util import base64_image\n",
    "from api_client import post_and_save\n",
    "\n",
    "# Upload Image\n",
    "image_file_name = \"Will-You-Marry-Me\"\n",
    "body = {\n",
    "    \"file_name\": f\"{image_file_name}.png\",\n",
    "    \"contents\": base64_image(f\"{image_file_name}.png\")\n",
    "}\n",
    "post_and_save(\"/v1/uploads/images.json\", body, f\"Image_{image_file_name}\")"
   ],
   "metadata": {
    "collapsed": false
   },
   "id": "251b769f5cfe2b6b"
  },
  {
   "cell_type": "code",
   "execution_count": null,
   "outputs": [],
   "source": [
    "import uuid\n",
    "from api_client import post_and_save\n",
    "import mimetypes\n",
    "\n",
    "url = \"\"\n",
    "\n",
    "contentType = mimetypes.guess_type(url)[0]\n",
    "print(f\"{contentType}\")\n",
    "\n",
    "# Upload Image\n",
    "image_file_name = str(uuid.uuid4())\n",
    "body = {\n",
    "    \"file_name\": f\"{image_file_name}.png\",\n",
    "    \"url\": url\n",
    "}\n",
    "post_and_save(\"/v1/uploads/images.json\", body, f\"Image_{image_file_name}\")"
   ],
   "metadata": {
    "collapsed": false
   },
   "id": "5e1098f324f5f22a"
  },
  {
   "cell_type": "code",
   "execution_count": null,
   "outputs": [],
   "source": [
    "import webbrowser\n",
    "import json\n",
    "from api_client import post_and_save, post\n",
    "\n",
    "with open(\"ProductDescription.html\", \"r\") as file:\n",
    "    product_description = file.read()\n",
    "\n",
    "with open(\"Saves/Blueprint-706_PrintProvider-39_Variants_Ids_Light.json\", \"r\") as file:\n",
    "    variants = json.loads(file.read())\n",
    "\n",
    "with open(\"Saves/Image_Will-You-Marry-Me.json\", \"r\") as file:\n",
    "    image_id = json.loads(file.read())[\"id\"]\n",
    "\n",
    "# Create Product\n",
    "body = {\n",
    "    \"title\": \"Will You Marry Me?!\",\n",
    "    \"description\": product_description,\n",
    "    \"blueprint_id\": 706,\n",
    "    \"print_provider_id\": 39,\n",
    "    \"variants\": [{\"id\": variant, \"price\": 2999} for variant in variants],\n",
    "    \"print_areas\": [{\n",
    "        \"variant_ids\": variants,\n",
    "        \"placeholders\": [{\n",
    "            \"position\": \"front\",\n",
    "            \"images\": [{\n",
    "                \"id\": image_id,\n",
    "                \"x\": 0.5,\n",
    "                \"y\": 0.5,\n",
    "                \"scale\": 1,\n",
    "                \"angle\": 0\n",
    "            }]\n",
    "        }]\n",
    "    }]\n",
    "}\n",
    "\n",
    "product_id = post_and_save(uri=f\"/v1/shops/{SHOP_SHOPIFY_ID}/products.json\", body=body, file_name=\"Product_Will-You-Marry-Me\")[\"id\"]\n",
    "\n",
    "# Publish Product\n",
    "publish_payload = {\n",
    "    \"title\": True,\n",
    "    \"description\": True,\n",
    "    \"images\": True,\n",
    "    \"variants\": True,\n",
    "    \"tags\": True,\n",
    "    \"keyFeatures\": True,\n",
    "    \"shipping_template\": True\n",
    "}\n",
    "\n",
    "post(uri=f\"/v1/shops/{SHOP_SHOPIFY_ID}/products/{product_id}/publish.json\", body=publish_payload)\n",
    "\n",
    "webbrowser.open(f\"https://printify.com/app/product-details/{product_id}\")"
   ],
   "metadata": {
    "collapsed": false
   },
   "id": "52d0ee4292bc915c"
  },
  {
   "cell_type": "code",
   "outputs": [],
   "source": [
    "import json\n",
    "\n",
    "with open(\"Saves/Blueprint-706_PrintProvider-39_Variants_All.json\", \"r\") as file:\n",
    "    variants_original = json.loads(file.read())[\"variants\"]\n",
    "\n",
    "print(len(variants_original))"
   ],
   "metadata": {
    "collapsed": false
   },
   "id": "6ca19e99e6a3160f",
   "execution_count": null
  },
  {
   "cell_type": "code",
   "outputs": [],
   "source": [
    "set([i['options']['size'] for i in variants_original if i['id'] in variant_ids_balanced])"
   ],
   "metadata": {
    "collapsed": false
   },
   "id": "77605f27f90b41ab",
   "execution_count": null
  },
  {
   "cell_type": "code",
   "outputs": [],
   "source": [
    "variants = {\n",
    "    \"balanced\": [\n",
    "        73199, 73203, 73207, 73211, 73215, 79169, 101476, 73196, 73200, 73204, 73208, 73212, 79114, 101423, 73198, 73202, 73206, 73210, 73214, 79157, 101465, 73197, 73201, 73205, 73209,\n",
    "        73213, 79152, 101460, 78911, 78912, 78913, 78914, 78915, 79121, 101430, 78931, 78932, 78933, 78934, 78935, 79126, 101435, 78951, 78952, 78953, 78954, 78955, 79132, 101468\n",
    "    ],\n",
    "    \"light\": [\n",
    "        73199, 73203, 73207, 73211, 73215, 79169, 101476, 78886, 78887, 78888, 78889, 78890, 79115, 101424, 78921, 78922, 78923, 78924, 78925, 79124, 101433, 73968, 73975, 73982, 73989,\n",
    "        73996, 79133, 101441, 78911, 78912, 78913, 78914, 78915, 79121, 101430, 78931, 78932, 78933, 78934, 78935, 79126, 101435, 78951, 78952, 78953, 78954, 78955, 79132, 101468\n",
    "    ],\n",
    "    \"dark\": [\n",
    "        73196, 73200, 73204, 73208, 73212, 79114, 101423, 73198, 73202, 73206, 73210, 73214, 79157, 101465, 73197, 73201, 73205, 73209, 73213, 79152, 101460, 78881, 78882, 78883, 78884,\n",
    "        78885, 79113, 101422, 78956, 78957, 78958, 78959, 78960, 79134, 101442, 79076, 79077, 79078, 79079, 79080, 79163, 101470, 78981, 78982, 78983, 78984, 78985, 79139, 101447\n",
    "    ]\n",
    "}"
   ],
   "metadata": {
    "collapsed": false
   },
   "id": "368fd5d284b28521",
   "execution_count": null
  },
  {
   "cell_type": "code",
   "outputs": [],
   "source": [
    "extended_price_sizes = [\"2XL\", \"3XL\", \"4XL\"]\n",
    "prices = {}\n",
    "unique_set = set(variants[\"light\"] + variants[\"dark\"] + variants[\"balanced\"])"
   ],
   "metadata": {
    "collapsed": false
   },
   "id": "32a10ab0343fb2b7",
   "execution_count": null
  },
  {
   "cell_type": "code",
   "outputs": [],
   "source": [
    "for i in variants_original:\n",
    "    if i[\"id\"] in unique_set:\n",
    "        prices.update({\n",
    "            i[\"id\"]: 1499 if i[\"options\"][\"size\"] not in extended_price_sizes else 1999\n",
    "        })"
   ],
   "metadata": {
    "collapsed": false
   },
   "id": "91f4065cafaf86a2",
   "execution_count": null
  }
 ],
 "metadata": {
  "kernelspec": {
   "display_name": "Python 3",
   "language": "python",
   "name": "python3"
  },
  "language_info": {
   "codemirror_mode": {
    "name": "ipython",
    "version": 2
   },
   "file_extension": ".py",
   "mimetype": "text/x-python",
   "name": "python",
   "nbconvert_exporter": "python",
   "pygments_lexer": "ipython2",
   "version": "2.7.6"
  }
 },
 "nbformat": 4,
 "nbformat_minor": 5
}
