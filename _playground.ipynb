{
 "cells": [
  {
   "cell_type": "code",
   "execution_count": null,
   "outputs": [],
   "source": [
    "import json\n",
    "import os\n",
    "\n",
    "from dotenv import load_dotenv\n",
    "\n",
    "from api_client import get_and_save, post_and_save\n",
    "from image_util import base64_image"
   ],
   "metadata": {
    "collapsed": false
   },
   "id": "d791e880a8f72d3e"
  },
  {
   "cell_type": "code",
   "execution_count": null,
   "outputs": [],
   "source": [
    "load_dotenv()\n",
    "\n",
    "SHOP_SHOPIFY_ID = os.getenv(\"SHOP_SHOPIFY_ID\")\n",
    "IMAGE_DBM_01_ID = os.getenv(\"IMAGE_DBM_01_ID\")"
   ],
   "metadata": {
    "collapsed": false
   },
   "id": "69d6d3fedb88b727"
  },
  {
   "cell_type": "code",
   "execution_count": null,
   "outputs": [],
   "source": [
    "# My Shops\n",
    "get_and_save(\"/v1/shops.json\", \"MyShops\")"
   ],
   "metadata": {
    "collapsed": false
   },
   "id": "9933130bf6f8645d"
  },
  {
   "cell_type": "code",
   "execution_count": null,
   "outputs": [],
   "source": [
    "# Blueprints\n",
    "get_and_save(\"/v1/catalog/blueprints.json\", \"Blueprints\")"
   ],
   "metadata": {
    "collapsed": false
   },
   "id": "f39fe7306e0a5fc0"
  },
  {
   "cell_type": "code",
   "execution_count": null,
   "outputs": [],
   "source": [
    "# Blueprint Provider\n",
    "get_and_save(\"/v1/catalog/blueprints/706/print_providers.json\", \"Blueprint_706_Providers\")"
   ],
   "metadata": {
    "collapsed": false
   },
   "id": "d675d639f9719728"
  },
  {
   "cell_type": "code",
   "execution_count": null,
   "outputs": [],
   "source": [
    "# Upload Image\n",
    "image_file_name = \"DBM_01\"\n",
    "body = {\n",
    "    \"file_name\": f\"{image_file_name}.jpg\",\n",
    "    \"contents\": base64_image(f\"{image_file_name}.jpg\")\n",
    "}\n",
    "post_and_save(\"/v1/uploads/images.json\", body, f\"Image_{image_file_name}\")"
   ],
   "metadata": {
    "collapsed": false
   },
   "id": "7856271a9d43906b"
  },
  {
   "cell_type": "code",
   "execution_count": null,
   "outputs": [],
   "source": [
    "# Shipping Cost\n",
    "get_and_save(\"/v1/catalog/blueprints/706/print_providers/42/shipping.json\", \"PrintProvider_42_ShippingCosts\")"
   ],
   "metadata": {
    "collapsed": false
   },
   "id": "9f00d314ba34a4ed"
  },
  {
   "cell_type": "code",
   "execution_count": null,
   "outputs": [],
   "source": [
    "# Variants\n",
    "get_and_save(\"/v1/catalog/blueprints/706/print_providers/42/variants.json\", \"PrintProvider_42_Variants\")"
   ],
   "metadata": {
    "collapsed": false
   },
   "id": "98fb5e598b5b9ac9"
  },
  {
   "cell_type": "code",
   "execution_count": null,
   "outputs": [],
   "source": [
    "# Loading Variants\n",
    "with open(\"Saves/PrintProvider_42_ShippingCosts.json\", \"r\") as file:\n",
    "    cost_content = json.loads(file.read())\n",
    "\n",
    "variants = []\n",
    "for profile in cost_content[\"profiles\"]:\n",
    "    price = profile[\"first_item\"][\"cost\"]\n",
    "    for variant_id in profile[\"variant_ids\"]:\n",
    "        variants.append({\n",
    "            \"id\": variant_id,\n",
    "            \"price\": price,\n",
    "            \"is_enabled\": True\n",
    "        })"
   ],
   "metadata": {
    "collapsed": false
   },
   "id": "986d5c8be0878d32"
  },
  {
   "cell_type": "code",
   "execution_count": null,
   "outputs": [],
   "source": [
    "# Loading Print Areas\n",
    "with open(\"Saves/PrintProvider_42_Variants.json\", \"r\") as file:\n",
    "    variant_content = json.loads(file.read())\n",
    "\n",
    "print_areas = [{\n",
    "    \"variant_ids\": [variant[\"id\"] for variant in variant_content[\"variants\"]],\n",
    "    \"placeholders\": [{\n",
    "        \"position\": \"front\",\n",
    "        \"images\": [{\n",
    "            \"id\": f\"{IMAGE_DBM_01_ID}\",\n",
    "            \"x\": 0.5,\n",
    "            \"y\": 0.5,\n",
    "            \"scale\": 0.7,\n",
    "            \"angle\": 0\n",
    "        }]\n",
    "    }]\n",
    "}]"
   ],
   "metadata": {
    "collapsed": false
   },
   "id": "6b823400ecc7e837"
  },
  {
   "cell_type": "code",
   "execution_count": null,
   "outputs": [],
   "source": [
    "# Create Product\n",
    "body = {\n",
    "    \"title\": \"T-Shirt DBM!\",\n",
    "    \"description\": \"Funny DBM! T-Shirt\",\n",
    "    \"blueprint_id\": 706,\n",
    "    \"print_provider_id\": 42,\n",
    "    \"variants\": variants,\n",
    "    \"print_areas\": print_areas\n",
    "}\n",
    "post_and_save(f\"/v1/shops/{SHOP_SHOPIFY_ID}/products.json\", body, \"Product_DBM_01\")"
   ],
   "metadata": {
    "collapsed": false
   },
   "id": "15174113ff6737d0"
  }
 ],
 "metadata": {
  "kernelspec": {
   "display_name": "Python 3",
   "language": "python",
   "name": "python3"
  },
  "language_info": {
   "codemirror_mode": {
    "name": "ipython",
    "version": 2
   },
   "file_extension": ".py",
   "mimetype": "text/x-python",
   "name": "python",
   "nbconvert_exporter": "python",
   "pygments_lexer": "ipython2",
   "version": "2.7.6"
  }
 },
 "nbformat": 4,
 "nbformat_minor": 5
}
